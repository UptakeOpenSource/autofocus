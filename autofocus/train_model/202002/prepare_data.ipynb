{
 "cells": [
  {
   "cell_type": "code",
   "execution_count": 1,
   "metadata": {},
   "outputs": [],
   "source": [
    "%matplotlib inline\n",
    "%reload_ext autoreload\n",
    "%autoreload 2\n",
    "%load_ext lab_black"
   ]
  },
  {
   "cell_type": "code",
   "execution_count": 2,
   "metadata": {},
   "outputs": [],
   "source": [
    "import os\n",
    "from pathlib import Path\n",
    "\n",
    "import matplotlib.pyplot as plt\n",
    "import numpy as np\n",
    "import pandas as pd\n",
    "from tqdm import tqdm"
   ]
  },
  {
   "cell_type": "code",
   "execution_count": 3,
   "metadata": {},
   "outputs": [],
   "source": [
    "tqdm.pandas()"
   ]
  },
  {
   "cell_type": "code",
   "execution_count": 4,
   "metadata": {},
   "outputs": [],
   "source": [
    "df1 = pd.read_csv(\n",
    "    Path(os.getenv(\"AUTOFOCUS_DATA_DIR\")) / \"lpz_2012-2014\" / \"raw\" / \"labels.csv\",\n",
    "    parse_dates=[\"Date\"],\n",
    "    usecols=[\"Date\", \"Species\", \"filename_build\"],\n",
    ")"
   ]
  },
  {
   "cell_type": "code",
   "execution_count": 5,
   "metadata": {},
   "outputs": [
    {
     "data": {
      "text/html": [
       "<div>\n",
       "<style scoped>\n",
       "    .dataframe tbody tr th:only-of-type {\n",
       "        vertical-align: middle;\n",
       "    }\n",
       "\n",
       "    .dataframe tbody tr th {\n",
       "        vertical-align: top;\n",
       "    }\n",
       "\n",
       "    .dataframe thead th {\n",
       "        text-align: right;\n",
       "    }\n",
       "</style>\n",
       "<table border=\"1\" class=\"dataframe\">\n",
       "  <thead>\n",
       "    <tr style=\"text-align: right;\">\n",
       "      <th></th>\n",
       "      <th>Date</th>\n",
       "      <th>Species</th>\n",
       "      <th>filename_build</th>\n",
       "    </tr>\n",
       "  </thead>\n",
       "  <tbody>\n",
       "    <tr>\n",
       "      <th>0</th>\n",
       "      <td>2012-01-24</td>\n",
       "      <td>Coyote</td>\n",
       "      <td>WI12/DPT/D10-VHC1-WI12/D10-VHC1-WI12 (23).JPG</td>\n",
       "    </tr>\n",
       "    <tr>\n",
       "      <th>1</th>\n",
       "      <td>2012-01-24</td>\n",
       "      <td>Coyote</td>\n",
       "      <td>WI12/DPT/D10-VHC1-WI12/D10-VHC1-WI12 (24).JPG</td>\n",
       "    </tr>\n",
       "    <tr>\n",
       "      <th>2</th>\n",
       "      <td>2012-01-24</td>\n",
       "      <td>Coyote</td>\n",
       "      <td>WI12/DPT/D10-VHC1-WI12/D10-VHC1-WI12 (25).JPG</td>\n",
       "    </tr>\n",
       "    <tr>\n",
       "      <th>3</th>\n",
       "      <td>2012-01-24</td>\n",
       "      <td>Coyote</td>\n",
       "      <td>WI12/DPT/D10-VHC1-WI12/D10-VHC1-WI12 (26).JPG</td>\n",
       "    </tr>\n",
       "    <tr>\n",
       "      <th>4</th>\n",
       "      <td>2012-01-26</td>\n",
       "      <td>Rabbit</td>\n",
       "      <td>WI12/DPT/D10-VHC1-WI12/D10-VHC1-WI12 (27).JPG</td>\n",
       "    </tr>\n",
       "  </tbody>\n",
       "</table>\n",
       "</div>"
      ],
      "text/plain": [
       "        Date Species                                 filename_build\n",
       "0 2012-01-24  Coyote  WI12/DPT/D10-VHC1-WI12/D10-VHC1-WI12 (23).JPG\n",
       "1 2012-01-24  Coyote  WI12/DPT/D10-VHC1-WI12/D10-VHC1-WI12 (24).JPG\n",
       "2 2012-01-24  Coyote  WI12/DPT/D10-VHC1-WI12/D10-VHC1-WI12 (25).JPG\n",
       "3 2012-01-24  Coyote  WI12/DPT/D10-VHC1-WI12/D10-VHC1-WI12 (26).JPG\n",
       "4 2012-01-26  Rabbit  WI12/DPT/D10-VHC1-WI12/D10-VHC1-WI12 (27).JPG"
      ]
     },
     "execution_count": 5,
     "metadata": {},
     "output_type": "execute_result"
    }
   ],
   "source": [
    "df1.head()"
   ]
  },
  {
   "cell_type": "code",
   "execution_count": 6,
   "metadata": {},
   "outputs": [],
   "source": [
    "df2 = pd.read_csv(\n",
    "    Path(os.getenv(\"AUTOFOCUS_DATA_DIR\"))\n",
    "    / \"lpz_2016_2017\"\n",
    "    / \"processed\"\n",
    "    / \"labels.csv\",\n",
    "    parse_dates=[\"date\"],\n",
    "    usecols=[\"filename\", \"label\", \"date\", \"location\"],\n",
    ")"
   ]
  },
  {
   "cell_type": "code",
   "execution_count": 7,
   "metadata": {},
   "outputs": [],
   "source": [
    "def get_path(filename_build):\n",
    "    if filename_build.startswith(\"FA\"):\n",
    "        filename_build = Path(filename_build)\n",
    "        return (\n",
    "            Path(os.getenv(\"AUTOFOCUS_DATA_DIR\"))\n",
    "            / \"lpz_2012-2014\"\n",
    "            / \"raw\"\n",
    "            / Path(*filename_build.parts[:2])\n",
    "            / \"-\".join(filename_build.parts[2].split(\"-\")[:2])\n",
    "            / Path(*filename_build.parts[3:])\n",
    "        )\n",
    "    else:\n",
    "        return (\n",
    "            Path(os.getenv(\"AUTOFOCUS_DATA_DIR\"))\n",
    "            / \"lpz_2012-2014\"\n",
    "            / \"raw\"\n",
    "            / filename_build\n",
    "        )"
   ]
  },
  {
   "cell_type": "code",
   "execution_count": 8,
   "metadata": {},
   "outputs": [
    {
     "name": "stderr",
     "output_type": "stream",
     "text": [
      "100%|██████████| 74560/74560 [00:02<00:00, 30866.77it/s]\n"
     ]
    }
   ],
   "source": [
    "df1.loc[:, \"path\"] = df1.loc[:, \"filename_build\"].progress_apply(get_path)"
   ]
  },
  {
   "cell_type": "code",
   "execution_count": 9,
   "metadata": {},
   "outputs": [],
   "source": [
    "df1 = df1.loc[df1.loc[:, \"path\"].apply(lambda x: x.exists()), :]"
   ]
  },
  {
   "cell_type": "code",
   "execution_count": 10,
   "metadata": {},
   "outputs": [
    {
     "data": {
      "text/plain": [
       "69346"
      ]
     },
     "execution_count": 10,
     "metadata": {},
     "output_type": "execute_result"
    }
   ],
   "source": [
    "len(df1)"
   ]
  },
  {
   "cell_type": "code",
   "execution_count": 11,
   "metadata": {},
   "outputs": [
    {
     "data": {
      "text/html": [
       "<div>\n",
       "<style scoped>\n",
       "    .dataframe tbody tr th:only-of-type {\n",
       "        vertical-align: middle;\n",
       "    }\n",
       "\n",
       "    .dataframe tbody tr th {\n",
       "        vertical-align: top;\n",
       "    }\n",
       "\n",
       "    .dataframe thead th {\n",
       "        text-align: right;\n",
       "    }\n",
       "</style>\n",
       "<table border=\"1\" class=\"dataframe\">\n",
       "  <thead>\n",
       "    <tr style=\"text-align: right;\">\n",
       "      <th></th>\n",
       "      <th>filename</th>\n",
       "      <th>label</th>\n",
       "      <th>date</th>\n",
       "      <th>location</th>\n",
       "    </tr>\n",
       "  </thead>\n",
       "  <tbody>\n",
       "    <tr>\n",
       "      <th>0</th>\n",
       "      <td>CHIL - D02-BMT1-JU16_00128.JPG</td>\n",
       "      <td>human</td>\n",
       "      <td>2016-07-12</td>\n",
       "      <td>BMT1</td>\n",
       "    </tr>\n",
       "    <tr>\n",
       "      <th>1</th>\n",
       "      <td>CHIL - D02-BMT1-JU16_00129.JPG</td>\n",
       "      <td>human</td>\n",
       "      <td>2016-07-12</td>\n",
       "      <td>BMT1</td>\n",
       "    </tr>\n",
       "    <tr>\n",
       "      <th>2</th>\n",
       "      <td>CHIL - D02-BMT1-JU16_00130.JPG</td>\n",
       "      <td>empty</td>\n",
       "      <td>2016-07-12</td>\n",
       "      <td>BMT1</td>\n",
       "    </tr>\n",
       "    <tr>\n",
       "      <th>3</th>\n",
       "      <td>CHIL - D02-BMT1-JU16_00131.JPG</td>\n",
       "      <td>human</td>\n",
       "      <td>2016-07-12</td>\n",
       "      <td>BMT1</td>\n",
       "    </tr>\n",
       "    <tr>\n",
       "      <th>4</th>\n",
       "      <td>CHIL - D02-BMT1-JU16_00132.JPG</td>\n",
       "      <td>human</td>\n",
       "      <td>2016-07-12</td>\n",
       "      <td>BMT1</td>\n",
       "    </tr>\n",
       "  </tbody>\n",
       "</table>\n",
       "</div>"
      ],
      "text/plain": [
       "                         filename  label       date location\n",
       "0  CHIL - D02-BMT1-JU16_00128.JPG  human 2016-07-12     BMT1\n",
       "1  CHIL - D02-BMT1-JU16_00129.JPG  human 2016-07-12     BMT1\n",
       "2  CHIL - D02-BMT1-JU16_00130.JPG  empty 2016-07-12     BMT1\n",
       "3  CHIL - D02-BMT1-JU16_00131.JPG  human 2016-07-12     BMT1\n",
       "4  CHIL - D02-BMT1-JU16_00132.JPG  human 2016-07-12     BMT1"
      ]
     },
     "execution_count": 11,
     "metadata": {},
     "output_type": "execute_result"
    }
   ],
   "source": [
    "df2.head()"
   ]
  },
  {
   "cell_type": "code",
   "execution_count": 12,
   "metadata": {},
   "outputs": [
    {
     "name": "stderr",
     "output_type": "stream",
     "text": [
      "100%|██████████| 84130/84130 [00:02<00:00, 34905.40it/s]\n"
     ]
    }
   ],
   "source": [
    "df2.loc[:, \"path\"] = df2.loc[:, \"filename\"].progress_apply(\n",
    "    lambda x: (\n",
    "        Path(os.getenv(\"AUTOFOCUS_DATA_DIR\"))\n",
    "        / \"lpz_2016_2017\"\n",
    "        / \"processed\"\n",
    "        / \"images\"\n",
    "        / x\n",
    "    )\n",
    ")"
   ]
  },
  {
   "cell_type": "code",
   "execution_count": 13,
   "metadata": {},
   "outputs": [],
   "source": [
    "df2 = df2.drop(\"filename\", axis=\"columns\").dropna(subset=[\"label\"])"
   ]
  },
  {
   "cell_type": "code",
   "execution_count": 14,
   "metadata": {},
   "outputs": [
    {
     "data": {
      "text/html": [
       "<div>\n",
       "<style scoped>\n",
       "    .dataframe tbody tr th:only-of-type {\n",
       "        vertical-align: middle;\n",
       "    }\n",
       "\n",
       "    .dataframe tbody tr th {\n",
       "        vertical-align: top;\n",
       "    }\n",
       "\n",
       "    .dataframe thead th {\n",
       "        text-align: right;\n",
       "    }\n",
       "</style>\n",
       "<table border=\"1\" class=\"dataframe\">\n",
       "  <thead>\n",
       "    <tr style=\"text-align: right;\">\n",
       "      <th></th>\n",
       "      <th>label</th>\n",
       "      <th>date</th>\n",
       "      <th>location</th>\n",
       "      <th>path</th>\n",
       "    </tr>\n",
       "  </thead>\n",
       "  <tbody>\n",
       "    <tr>\n",
       "      <th>0</th>\n",
       "      <td>human</td>\n",
       "      <td>2016-07-12</td>\n",
       "      <td>BMT1</td>\n",
       "      <td>/autofocus/data/lpz_2016_2017/processed/images...</td>\n",
       "    </tr>\n",
       "    <tr>\n",
       "      <th>1</th>\n",
       "      <td>human</td>\n",
       "      <td>2016-07-12</td>\n",
       "      <td>BMT1</td>\n",
       "      <td>/autofocus/data/lpz_2016_2017/processed/images...</td>\n",
       "    </tr>\n",
       "    <tr>\n",
       "      <th>2</th>\n",
       "      <td>empty</td>\n",
       "      <td>2016-07-12</td>\n",
       "      <td>BMT1</td>\n",
       "      <td>/autofocus/data/lpz_2016_2017/processed/images...</td>\n",
       "    </tr>\n",
       "    <tr>\n",
       "      <th>3</th>\n",
       "      <td>human</td>\n",
       "      <td>2016-07-12</td>\n",
       "      <td>BMT1</td>\n",
       "      <td>/autofocus/data/lpz_2016_2017/processed/images...</td>\n",
       "    </tr>\n",
       "    <tr>\n",
       "      <th>4</th>\n",
       "      <td>human</td>\n",
       "      <td>2016-07-12</td>\n",
       "      <td>BMT1</td>\n",
       "      <td>/autofocus/data/lpz_2016_2017/processed/images...</td>\n",
       "    </tr>\n",
       "  </tbody>\n",
       "</table>\n",
       "</div>"
      ],
      "text/plain": [
       "   label       date location  \\\n",
       "0  human 2016-07-12     BMT1   \n",
       "1  human 2016-07-12     BMT1   \n",
       "2  empty 2016-07-12     BMT1   \n",
       "3  human 2016-07-12     BMT1   \n",
       "4  human 2016-07-12     BMT1   \n",
       "\n",
       "                                                path  \n",
       "0  /autofocus/data/lpz_2016_2017/processed/images...  \n",
       "1  /autofocus/data/lpz_2016_2017/processed/images...  \n",
       "2  /autofocus/data/lpz_2016_2017/processed/images...  \n",
       "3  /autofocus/data/lpz_2016_2017/processed/images...  \n",
       "4  /autofocus/data/lpz_2016_2017/processed/images...  "
      ]
     },
     "execution_count": 14,
     "metadata": {},
     "output_type": "execute_result"
    }
   ],
   "source": [
    "df2.head()"
   ]
  },
  {
   "cell_type": "code",
   "execution_count": 15,
   "metadata": {},
   "outputs": [],
   "source": [
    "df1 = df1.loc[:, [\"Date\", \"Species\", \"path\"]]"
   ]
  },
  {
   "cell_type": "code",
   "execution_count": 16,
   "metadata": {},
   "outputs": [],
   "source": [
    "df1.columns = [\"date\", \"label\", \"path\"]"
   ]
  },
  {
   "cell_type": "code",
   "execution_count": 17,
   "metadata": {},
   "outputs": [
    {
     "data": {
      "text/html": [
       "<div>\n",
       "<style scoped>\n",
       "    .dataframe tbody tr th:only-of-type {\n",
       "        vertical-align: middle;\n",
       "    }\n",
       "\n",
       "    .dataframe tbody tr th {\n",
       "        vertical-align: top;\n",
       "    }\n",
       "\n",
       "    .dataframe thead th {\n",
       "        text-align: right;\n",
       "    }\n",
       "</style>\n",
       "<table border=\"1\" class=\"dataframe\">\n",
       "  <thead>\n",
       "    <tr style=\"text-align: right;\">\n",
       "      <th></th>\n",
       "      <th>date</th>\n",
       "      <th>label</th>\n",
       "      <th>path</th>\n",
       "    </tr>\n",
       "  </thead>\n",
       "  <tbody>\n",
       "    <tr>\n",
       "      <th>0</th>\n",
       "      <td>2012-01-24</td>\n",
       "      <td>Coyote</td>\n",
       "      <td>/autofocus/data/lpz_2012-2014/raw/WI12/DPT/D10...</td>\n",
       "    </tr>\n",
       "    <tr>\n",
       "      <th>1</th>\n",
       "      <td>2012-01-24</td>\n",
       "      <td>Coyote</td>\n",
       "      <td>/autofocus/data/lpz_2012-2014/raw/WI12/DPT/D10...</td>\n",
       "    </tr>\n",
       "    <tr>\n",
       "      <th>2</th>\n",
       "      <td>2012-01-24</td>\n",
       "      <td>Coyote</td>\n",
       "      <td>/autofocus/data/lpz_2012-2014/raw/WI12/DPT/D10...</td>\n",
       "    </tr>\n",
       "    <tr>\n",
       "      <th>3</th>\n",
       "      <td>2012-01-24</td>\n",
       "      <td>Coyote</td>\n",
       "      <td>/autofocus/data/lpz_2012-2014/raw/WI12/DPT/D10...</td>\n",
       "    </tr>\n",
       "    <tr>\n",
       "      <th>4</th>\n",
       "      <td>2012-01-26</td>\n",
       "      <td>Rabbit</td>\n",
       "      <td>/autofocus/data/lpz_2012-2014/raw/WI12/DPT/D10...</td>\n",
       "    </tr>\n",
       "  </tbody>\n",
       "</table>\n",
       "</div>"
      ],
      "text/plain": [
       "        date   label                                               path\n",
       "0 2012-01-24  Coyote  /autofocus/data/lpz_2012-2014/raw/WI12/DPT/D10...\n",
       "1 2012-01-24  Coyote  /autofocus/data/lpz_2012-2014/raw/WI12/DPT/D10...\n",
       "2 2012-01-24  Coyote  /autofocus/data/lpz_2012-2014/raw/WI12/DPT/D10...\n",
       "3 2012-01-24  Coyote  /autofocus/data/lpz_2012-2014/raw/WI12/DPT/D10...\n",
       "4 2012-01-26  Rabbit  /autofocus/data/lpz_2012-2014/raw/WI12/DPT/D10..."
      ]
     },
     "execution_count": 17,
     "metadata": {},
     "output_type": "execute_result"
    }
   ],
   "source": [
    "df1.head()"
   ]
  },
  {
   "cell_type": "code",
   "execution_count": 18,
   "metadata": {},
   "outputs": [
    {
     "data": {
      "text/plain": [
       "empty                                  46824\n",
       "Empty                                  21902\n",
       "Human                                  19383\n",
       "human                                  16310\n",
       "Gray squirrel                           5434\n",
       "bird                                    3929\n",
       "raccoon                                 3525\n",
       "gray squirrel                           3132\n",
       "Dom dog                                 3103\n",
       "Raccoon                                 2680\n",
       "Deer                                    2632\n",
       "Opossum                                 2415\n",
       "dog                                     1454\n",
       "Coyote                                  1401\n",
       "Rabbit                                  1318\n",
       "w. t. deer                              1218\n",
       "v. opossum                              1158\n",
       "e. cottontail                           1048\n",
       "Unknown                                  951\n",
       "Car                                      949\n",
       "unknown                                  912\n",
       "Squirrel                                 893\n",
       "Canada goose                             887\n",
       "Fox squirrel                             826\n",
       "striped skunk                            652\n",
       "Dom cat                                  566\n",
       "Bird                                     514\n",
       "coyote                                   451\n",
       "Robin                                    420\n",
       "Mallard                                  388\n",
       "Mower                                    371\n",
       "lawn mower                               364\n",
       "Skunk                                    357\n",
       "Gray Squirrel                            318\n",
       "squirrel                                 308\n",
       "Grackle                                  273\n",
       "fox squirrel                             264\n",
       "cat                                      214\n",
       "Bike                                     186\n",
       "Other vehicle                            162\n",
       "Mouse                                    151\n",
       "chipmunk                                 150\n",
       "Rat                                      145\n",
       "Red fox                                  133\n",
       "rat                                       98\n",
       "Pigeon                                    77\n",
       "mouse                                     76\n",
       "Starling                                  72\n",
       "House sparrow                             43\n",
       "Mourning dove                             38\n",
       "Crow                                      34\n",
       "Cardinal                                  33\n",
       "American Robin                            29\n",
       "Yellow-Rumped Warbler                     20\n",
       "melanistic grey squirrel                  19\n",
       "Chipmunk                                  18\n",
       "Eurasian Collared Dove                    18\n",
       "squirrel (can'\\nsquirrel (can't ID)       16\n",
       "Beaver                                    12\n",
       "Red-winged blackbird                      10\n",
       "canada goose                              10\n",
       "Woodchuck                                  9\n",
       "Canada Goose                               9\n",
       "Chipping Sparrow                           9\n",
       "Sparrow                                    8\n",
       "mink                                       7\n",
       "Red winged blackbird                       6\n",
       "woodchuck                                  5\n",
       "Mink                                       5\n",
       "Ring-billed gull                           5\n",
       "gray fox                                   5\n",
       "car                                        5\n",
       "Fox Squirrel                               5\n",
       "bike                                       4\n",
       "Not Visible                                3\n",
       "Northern flicker                           3\n",
       "Swainson's thrush                          3\n",
       "Livestock                                  3\n",
       "Tractor                                    3\n",
       "Gray Catbird                               2\n",
       "mower                                      2\n",
       "Eurasian Collared-Dove                     2\n",
       "Truck                                      2\n",
       "American woodcock                          2\n",
       "flying squirrel                            2\n",
       "Song Sparrow                               2\n",
       "red fox                                    2\n",
       "1                                          2\n",
       "Blue jay                                   2\n",
       "White-crowned sparrow                      2\n",
       "Hairy woodpecker                           2\n",
       "Blue Jay                                   2\n",
       "Flying squirrel                            2\n",
       "beaver                                     1\n",
       "Red-tailed hawk                            1\n",
       "Great blue heron                           1\n",
       "CAr                                        1\n",
       "Brown thrasher                             1\n",
       "Dom Cat                                    1\n",
       "Hermit thrush                              1\n",
       "Coyote                                     1\n",
       "Great Horned Owl                           1\n",
       "Muskrat                                    1\n",
       "Duck                                       1\n",
       "Not visible                                1\n",
       "White-throated sparrow                     1\n",
       "`                                          1\n",
       "Red winged black bird                      1\n",
       "Domestic Cat                               1\n",
       "Gray catbird                               1\n",
       "Gray Fox                                   1\n",
       "American robin                             1\n",
       "Downy woodpecker                           1\n",
       "domestic cat                               1\n",
       "muskrat                                    1\n",
       "Name: label, dtype: int64"
      ]
     },
     "execution_count": 18,
     "metadata": {},
     "output_type": "execute_result"
    }
   ],
   "source": [
    "pd.set_option(\"display.max_rows\", 200)\n",
    "pd.concat((df1.loc[:, \"label\"], df2.loc[:, \"label\"])).value_counts()"
   ]
  },
  {
   "cell_type": "code",
   "execution_count": 19,
   "metadata": {},
   "outputs": [
    {
     "data": {
      "text/plain": [
       "array(['Coyote', 'Rabbit', 'Empty', 'Unknown', 'Skunk', 'Opossum', 'Deer',\n",
       "       'Raccoon', 'Gray squirrel', 'Squirrel', 'Fox squirrel', 'Dom dog',\n",
       "       'Human', 'Red fox', 'Canada goose', 'Dom cat', 'Bird', 'Bike',\n",
       "       'Rat', 'Crow', 'Fox Squirrel', 'Gray Squirrel', 'Mallard', 'human',\n",
       "       'Robin', 'House sparrow', 'Hermit thrush', 'Pigeon', 'Starling',\n",
       "       'Grackle', 'Mower', 'Gray Fox', 'Mouse', 'Sparrow',\n",
       "       'Yellow-Rumped Warbler', 'Flying squirrel', 'Mourning dove',\n",
       "       'Hairy woodpecker', 'Cardinal', 'Chipmunk', 'Woodchuck', 'Car',\n",
       "       'Truck', 'Other vehicle', 'Not visible', 'Domestic Cat', 'empty',\n",
       "       'Red-winged blackbird', 'Tractor', 'mower', 'bike', 'car', '`',\n",
       "       'CAr', '1', 'Mink', 'Beaver', 'Red winged blackbird',\n",
       "       'Brown thrasher', 'Northern flicker', 'Great blue heron',\n",
       "       'Blue jay', 'Blue Jay', 'Duck', 'Red winged black bird', 'Coyote ',\n",
       "       'Great Horned Owl', 'gray squirrel', 'Red-tailed hawk',\n",
       "       'American Robin', 'White-crowned sparrow', 'Ring-billed gull',\n",
       "       'American woodcock', 'Livestock', 'Chipping Sparrow',\n",
       "       'White-throated sparrow', \"Swainson's thrush\", 'Gray catbird',\n",
       "       'American robin', 'Gray Catbird', 'Downy woodpecker',\n",
       "       'Eurasian Collared Dove', 'Song Sparrow', 'Dom Cat', 'Not Visible',\n",
       "       'Canada Goose', 'canada goose', 'coyote', 'unknown',\n",
       "       'domestic cat', 'Eurasian Collared-Dove', 'Muskrat'], dtype=object)"
      ]
     },
     "execution_count": 19,
     "metadata": {},
     "output_type": "execute_result"
    }
   ],
   "source": [
    "df1.loc[:, \"label\"].unique()"
   ]
  },
  {
   "cell_type": "code",
   "execution_count": 20,
   "metadata": {},
   "outputs": [
    {
     "data": {
      "text/plain": [
       "array(['human', 'empty', 'dog', 'unknown', 'fox squirrel', 'bird',\n",
       "       'squirrel', 'gray squirrel', 'e. cottontail', 'raccoon', 'cat',\n",
       "       \"squirrel (can'\\nsquirrel (can't ID)\", 'chipmunk', 'coyote',\n",
       "       'mouse', 'lawn mower', 'gray fox', 'w. t. deer', 'woodchuck',\n",
       "       'rat', 'melanistic grey squirrel', 'flying squirrel', 'v. opossum',\n",
       "       'striped skunk', 'Mower', 'beaver', 'mink', 'red fox', 'muskrat'],\n",
       "      dtype=object)"
      ]
     },
     "execution_count": 20,
     "metadata": {},
     "output_type": "execute_result"
    }
   ],
   "source": [
    "df2.loc[:, \"label\"].unique()"
   ]
  },
  {
   "cell_type": "code",
   "execution_count": 21,
   "metadata": {},
   "outputs": [
    {
     "data": {
      "text/plain": [
       "{'1': '1',\n",
       " 'American Robin': 'American Robin',\n",
       " 'American robin': 'American robin',\n",
       " 'American woodcock': 'American woodcock',\n",
       " 'Beaver': 'Beaver',\n",
       " 'Bike': 'Bike',\n",
       " 'Bird': 'Bird',\n",
       " 'Blue Jay': 'Blue Jay',\n",
       " 'Blue jay': 'Blue jay',\n",
       " 'Brown thrasher': 'Brown thrasher',\n",
       " 'CAr': 'CAr',\n",
       " 'Canada Goose': 'Canada Goose',\n",
       " 'Canada goose': 'Canada goose',\n",
       " 'Car': 'Car',\n",
       " 'Cardinal': 'Cardinal',\n",
       " 'Chipmunk': 'Chipmunk',\n",
       " 'Chipping Sparrow': 'Chipping Sparrow',\n",
       " 'Coyote': 'Coyote',\n",
       " 'Coyote ': 'Coyote ',\n",
       " 'Crow': 'Crow',\n",
       " 'Deer': 'Deer',\n",
       " 'Dom Cat': 'Dom Cat',\n",
       " 'Dom cat': 'Dom cat',\n",
       " 'Dom dog': 'Dom dog',\n",
       " 'Domestic Cat': 'Domestic Cat',\n",
       " 'Downy woodpecker': 'Downy woodpecker',\n",
       " 'Duck': 'Duck',\n",
       " 'Empty': 'Empty',\n",
       " 'Eurasian Collared Dove': 'Eurasian Collared Dove',\n",
       " 'Eurasian Collared-Dove': 'Eurasian Collared-Dove',\n",
       " 'Flying squirrel': 'Flying squirrel',\n",
       " 'Fox Squirrel': 'Fox Squirrel',\n",
       " 'Fox squirrel': 'Fox squirrel',\n",
       " 'Grackle': 'Grackle',\n",
       " 'Gray Catbird': 'Gray Catbird',\n",
       " 'Gray Fox': 'Gray Fox',\n",
       " 'Gray Squirrel': 'Gray Squirrel',\n",
       " 'Gray catbird': 'Gray catbird',\n",
       " 'Gray squirrel': 'Gray squirrel',\n",
       " 'Great Horned Owl': 'Great Horned Owl',\n",
       " 'Great blue heron': 'Great blue heron',\n",
       " 'Hairy woodpecker': 'Hairy woodpecker',\n",
       " 'Hermit thrush': 'Hermit thrush',\n",
       " 'House sparrow': 'House sparrow',\n",
       " 'Human': 'Human',\n",
       " 'Livestock': 'Livestock',\n",
       " 'Mallard': 'Mallard',\n",
       " 'Mink': 'Mink',\n",
       " 'Mourning dove': 'Mourning dove',\n",
       " 'Mouse': 'Mouse',\n",
       " 'Mower': 'Mower',\n",
       " 'Muskrat': 'Muskrat',\n",
       " 'Northern flicker': 'Northern flicker',\n",
       " 'Not Visible': 'Not Visible',\n",
       " 'Not visible': 'Not visible',\n",
       " 'Opossum': 'Opossum',\n",
       " 'Other vehicle': 'Other vehicle',\n",
       " 'Pigeon': 'Pigeon',\n",
       " 'Rabbit': 'Rabbit',\n",
       " 'Raccoon': 'Raccoon',\n",
       " 'Rat': 'Rat',\n",
       " 'Red fox': 'Red fox',\n",
       " 'Red winged black bird': 'Red winged black bird',\n",
       " 'Red winged blackbird': 'Red winged blackbird',\n",
       " 'Red-tailed hawk': 'Red-tailed hawk',\n",
       " 'Red-winged blackbird': 'Red-winged blackbird',\n",
       " 'Ring-billed gull': 'Ring-billed gull',\n",
       " 'Robin': 'Robin',\n",
       " 'Skunk': 'Skunk',\n",
       " 'Song Sparrow': 'Song Sparrow',\n",
       " 'Sparrow': 'Sparrow',\n",
       " 'Squirrel': 'Squirrel',\n",
       " 'Starling': 'Starling',\n",
       " \"Swainson's thrush\": \"Swainson's thrush\",\n",
       " 'Tractor': 'Tractor',\n",
       " 'Truck': 'Truck',\n",
       " 'Unknown': 'Unknown',\n",
       " 'White-crowned sparrow': 'White-crowned sparrow',\n",
       " 'White-throated sparrow': 'White-throated sparrow',\n",
       " 'Woodchuck': 'Woodchuck',\n",
       " 'Yellow-Rumped Warbler': 'Yellow-Rumped Warbler',\n",
       " '`': '`',\n",
       " 'beaver': 'beaver',\n",
       " 'bike': 'bike',\n",
       " 'bird': 'bird',\n",
       " 'canada goose': 'canada goose',\n",
       " 'car': 'car',\n",
       " 'cat': 'cat',\n",
       " 'chipmunk': 'chipmunk',\n",
       " 'coyote': 'coyote',\n",
       " 'dog': 'dog',\n",
       " 'domestic cat': 'domestic cat',\n",
       " 'e. cottontail': 'e. cottontail',\n",
       " 'empty': 'empty',\n",
       " 'flying squirrel': 'flying squirrel',\n",
       " 'fox squirrel': 'fox squirrel',\n",
       " 'gray fox': 'gray fox',\n",
       " 'gray squirrel': 'gray squirrel',\n",
       " 'human': 'human',\n",
       " 'lawn mower': 'lawn mower',\n",
       " 'melanistic grey squirrel': 'melanistic grey squirrel',\n",
       " 'mink': 'mink',\n",
       " 'mouse': 'mouse',\n",
       " 'mower': 'mower',\n",
       " 'muskrat': 'muskrat',\n",
       " 'raccoon': 'raccoon',\n",
       " 'rat': 'rat',\n",
       " 'red fox': 'red fox',\n",
       " 'squirrel': 'squirrel',\n",
       " \"squirrel (can'\\nsquirrel (can't ID)\": \"squirrel (can'\\nsquirrel (can't ID)\",\n",
       " 'striped skunk': 'striped skunk',\n",
       " 'unknown': 'unknown',\n",
       " 'v. opossum': 'v. opossum',\n",
       " 'w. t. deer': 'w. t. deer',\n",
       " 'woodchuck': 'woodchuck'}"
      ]
     },
     "execution_count": 21,
     "metadata": {},
     "output_type": "execute_result"
    }
   ],
   "source": [
    "{\n",
    "    item: item\n",
    "    for item in sorted(\n",
    "        set(df2.loc[:, \"label\"].unique()) | set(df1.loc[:, \"label\"].unique())\n",
    "    )\n",
    "}"
   ]
  },
  {
   "cell_type": "code",
   "execution_count": 22,
   "metadata": {},
   "outputs": [
    {
     "data": {
      "text/plain": [
       "empty                       69852\n",
       "human                       36620\n",
       "squirrel                    11219\n",
       "bird                         6865\n",
       "raccoon                      6205\n",
       "dog                          4557\n",
       "deer                         3850\n",
       "opossum                      3573\n",
       "rabbit                       2366\n",
       "NaN                          1866\n",
       "coyote                       1853\n",
       "skunk                        1009\n",
       "cat                           783\n",
       "rat                           243\n",
       "mouse                         227\n",
       "chipmunk                      168\n",
       "fox                           141\n",
       "beaver_muskrat_woodchuck       29\n",
       "mink                           12\n",
       "livestock                       3\n",
       "Name: label, dtype: int64"
      ]
     },
     "execution_count": 22,
     "metadata": {},
     "output_type": "execute_result"
    }
   ],
   "source": [
    "labelmap = {\n",
    "    \"1\": None,\n",
    "    \"American Robin\": \"bird\",\n",
    "    \"American robin\": \"bird\",\n",
    "    \"American woodcock\": \"bird\",\n",
    "    \"Beaver\": \"beaver_muskrat_woodchuck\",\n",
    "    \"Bike\": \"human\",\n",
    "    \"Bird\": \"bird\",\n",
    "    \"Blue Jay\": \"bird\",\n",
    "    \"Blue jay\": \"bird\",\n",
    "    \"Brown thrasher\": \"bird\",\n",
    "    \"CAr\": \"empty\",\n",
    "    \"Canada Goose\": \"bird\",\n",
    "    \"Canada goose\": \"bird\",\n",
    "    \"Car\": \"empty\",\n",
    "    \"Cardinal\": \"bird\",\n",
    "    \"Chipmunk\": \"chipmunk\",\n",
    "    \"Chipping Sparrow\": \"bird\",\n",
    "    \"Coyote\": \"coyote\",\n",
    "    \"Coyote \": \"coyote\",\n",
    "    \"Crow\": \"bird\",\n",
    "    \"Deer\": \"deer\",\n",
    "    \"Dom Cat\": \"cat\",\n",
    "    \"Dom cat\": \"cat\",\n",
    "    \"Dom dog\": \"dog\",\n",
    "    \"Domestic Cat\": \"cat\",\n",
    "    \"Downy woodpecker\": \"bird\",\n",
    "    \"Duck\": \"bird\",\n",
    "    \"Empty\": \"empty\",\n",
    "    \"Eurasian Collared Dove\": \"bird\",\n",
    "    \"Eurasian Collared-Dove\": \"bird\",\n",
    "    \"Flying squirrel\": \"squirrel\",\n",
    "    \"Fox Squirrel\": \"squirrel\",\n",
    "    \"Fox squirrel\": \"squirrel\",\n",
    "    \"Grackle\": \"bird\",\n",
    "    \"Gray Catbird\": \"bird\",\n",
    "    \"Gray Fox\": \"fox\",\n",
    "    \"Gray Squirrel\": \"squirrel\",\n",
    "    \"Gray catbird\": \"bird\",\n",
    "    \"Gray squirrel\": \"squirrel\",\n",
    "    \"Great Horned Owl\": \"bird\",\n",
    "    \"Great blue heron\": \"bird\",\n",
    "    \"Hairy woodpecker\": \"bird\",\n",
    "    \"Hermit thrush\": \"bird\",\n",
    "    \"House sparrow\": \"bird\",\n",
    "    \"Human\": \"human\",\n",
    "    \"Livestock\": \"livestock\",\n",
    "    \"Mallard\": \"bird\",\n",
    "    \"Mink\": \"mink\",\n",
    "    \"Mourning dove\": \"bird\",\n",
    "    \"Mouse\": \"mouse\",\n",
    "    \"Mower\": \"human\",\n",
    "    \"Muskrat\": \"beaver_muskrat_woodchuck\",\n",
    "    \"Northern flicker\": \"bird\",\n",
    "    \"Not Visible\": \"empty\",\n",
    "    \"Not visible\": \"empty\",\n",
    "    \"Opossum\": \"opossum\",\n",
    "    \"Other vehicle\": \"empty\",\n",
    "    \"Pigeon\": \"bird\",\n",
    "    \"Rabbit\": \"rabbit\",\n",
    "    \"Raccoon\": \"raccoon\",\n",
    "    \"Rat\": \"rat\",\n",
    "    \"Red fox\": \"fox\",\n",
    "    \"Red winged black bird\": \"bird\",\n",
    "    \"Red winged blackbird\": \"bird\",\n",
    "    \"Red-tailed hawk\": \"bird\",\n",
    "    \"Red-winged blackbird\": \"bird\",\n",
    "    \"Ring-billed gull\": \"bird\",\n",
    "    \"Robin\": \"bird\",\n",
    "    \"Skunk\": \"skunk\",\n",
    "    \"Song Sparrow\": \"bird\",\n",
    "    \"Sparrow\": \"bird\",\n",
    "    \"Squirrel\": \"squirrel\",\n",
    "    \"Starling\": \"bird\",\n",
    "    \"Swainson's thrush\": \"bird\",\n",
    "    \"Tractor\": \"empty\",\n",
    "    \"Truck\": \"empty\",\n",
    "    \"Unknown\": None,\n",
    "    \"White-crowned sparrow\": \"bird\",\n",
    "    \"White-throated sparrow\": \"bird\",\n",
    "    \"Woodchuck\": \"beaver_muskrat_woodchuck\",\n",
    "    \"Yellow-Rumped Warbler\": \"bird\",\n",
    "    \"`\": None,\n",
    "    \"beaver\": \"beaver_muskrat_woodchuck\",\n",
    "    \"bike\": \"human\",\n",
    "    \"bird\": \"bird\",\n",
    "    \"canada goose\": \"bird\",\n",
    "    \"car\": \"empty\",\n",
    "    \"cat\": \"cat\",\n",
    "    \"chipmunk\": \"chipmunk\",\n",
    "    \"coyote\": \"coyote\",\n",
    "    \"dog\": \"dog\",\n",
    "    \"domestic cat\": \"cat\",\n",
    "    \"e. cottontail\": \"rabbit\",\n",
    "    \"empty\": \"empty\",\n",
    "    \"flying squirrel\": \"squirrel\",\n",
    "    \"fox squirrel\": \"squirrel\",\n",
    "    \"gray fox\": \"fox\",\n",
    "    \"gray squirrel\": \"squirrel\",\n",
    "    \"human\": \"human\",\n",
    "    \"lawn mower\": \"human\",\n",
    "    \"melanistic grey squirrel\": \"squirrel\",\n",
    "    \"mink\": \"mink\",\n",
    "    \"mouse\": \"mouse\",\n",
    "    \"mower\": \"human\",\n",
    "    \"muskrat\": \"beaver_muskrat_woodchuck\",\n",
    "    \"raccoon\": \"raccoon\",\n",
    "    \"rat\": \"rat\",\n",
    "    \"red fox\": \"fox\",\n",
    "    \"squirrel\": \"squirrel\",\n",
    "    \"squirrel (can'\\nsquirrel (can't ID)\": \"squirrel\",\n",
    "    \"striped skunk\": \"skunk\",\n",
    "    \"unknown\": None,\n",
    "    \"v. opossum\": \"opossum\",\n",
    "    \"w. t. deer\": \"deer\",\n",
    "    \"woodchuck\": \"beaver_muskrat_woodchuck\",\n",
    "}\n",
    "pd.concat((df1.loc[:, \"label\"], df2.loc[:, \"label\"])).map(labelmap).value_counts(\n",
    "    dropna=False\n",
    ")"
   ]
  },
  {
   "cell_type": "code",
   "execution_count": 23,
   "metadata": {},
   "outputs": [
    {
     "name": "stderr",
     "output_type": "stream",
     "text": [
      "100%|██████████| 69346/69346 [00:00<00:00, 308868.32it/s]\n"
     ]
    }
   ],
   "source": [
    "df1.loc[:, \"location\"] = df1.loc[:, \"path\"].progress_apply(\n",
    "    lambda x: x.parts[7].split(\"-\")[1]\n",
    ")"
   ]
  },
  {
   "cell_type": "code",
   "execution_count": 24,
   "metadata": {},
   "outputs": [
    {
     "name": "stderr",
     "output_type": "stream",
     "text": [
      "/opt/conda/lib/python3.6/site-packages/ipykernel_launcher.py:1: FutureWarning: Sorting because non-concatenation axis is not aligned. A future version\n",
      "of pandas will change to not sort by default.\n",
      "\n",
      "To accept the future behavior, pass 'sort=False'.\n",
      "\n",
      "To retain the current behavior and silence the warning, pass 'sort=True'.\n",
      "\n",
      "  \"\"\"Entry point for launching an IPython kernel.\n"
     ]
    }
   ],
   "source": [
    "df = pd.concat((df1, df2))"
   ]
  },
  {
   "cell_type": "code",
   "execution_count": 25,
   "metadata": {},
   "outputs": [],
   "source": [
    "df.loc[:, \"label\"] = df.loc[:, \"label\"].map(labelmap)"
   ]
  },
  {
   "cell_type": "code",
   "execution_count": 26,
   "metadata": {},
   "outputs": [
    {
     "data": {
      "text/plain": [
       "1    143612\n",
       "2      3728\n",
       "3       119\n",
       "4         4\n",
       "Name: path, dtype: int64"
      ]
     },
     "execution_count": 26,
     "metadata": {},
     "output_type": "execute_result"
    }
   ],
   "source": [
    "df.loc[:, \"path\"].value_counts().value_counts()"
   ]
  },
  {
   "cell_type": "code",
   "execution_count": 27,
   "metadata": {},
   "outputs": [
    {
     "data": {
      "text/html": [
       "<div>\n",
       "<style scoped>\n",
       "    .dataframe tbody tr th:only-of-type {\n",
       "        vertical-align: middle;\n",
       "    }\n",
       "\n",
       "    .dataframe tbody tr th {\n",
       "        vertical-align: top;\n",
       "    }\n",
       "\n",
       "    .dataframe thead th {\n",
       "        text-align: right;\n",
       "    }\n",
       "</style>\n",
       "<table border=\"1\" class=\"dataframe\">\n",
       "  <thead>\n",
       "    <tr style=\"text-align: right;\">\n",
       "      <th></th>\n",
       "      <th>date</th>\n",
       "      <th>label</th>\n",
       "      <th>location</th>\n",
       "      <th>path</th>\n",
       "    </tr>\n",
       "  </thead>\n",
       "  <tbody>\n",
       "    <tr>\n",
       "      <th>0</th>\n",
       "      <td>2012-01-24</td>\n",
       "      <td>coyote</td>\n",
       "      <td>VHC1</td>\n",
       "      <td>/autofocus/data/lpz_2012-2014/raw/WI12/DPT/D10...</td>\n",
       "    </tr>\n",
       "    <tr>\n",
       "      <th>1</th>\n",
       "      <td>2012-01-24</td>\n",
       "      <td>coyote</td>\n",
       "      <td>VHC1</td>\n",
       "      <td>/autofocus/data/lpz_2012-2014/raw/WI12/DPT/D10...</td>\n",
       "    </tr>\n",
       "    <tr>\n",
       "      <th>2</th>\n",
       "      <td>2012-01-24</td>\n",
       "      <td>coyote</td>\n",
       "      <td>VHC1</td>\n",
       "      <td>/autofocus/data/lpz_2012-2014/raw/WI12/DPT/D10...</td>\n",
       "    </tr>\n",
       "    <tr>\n",
       "      <th>3</th>\n",
       "      <td>2012-01-24</td>\n",
       "      <td>coyote</td>\n",
       "      <td>VHC1</td>\n",
       "      <td>/autofocus/data/lpz_2012-2014/raw/WI12/DPT/D10...</td>\n",
       "    </tr>\n",
       "    <tr>\n",
       "      <th>4</th>\n",
       "      <td>2012-01-26</td>\n",
       "      <td>rabbit</td>\n",
       "      <td>VHC1</td>\n",
       "      <td>/autofocus/data/lpz_2012-2014/raw/WI12/DPT/D10...</td>\n",
       "    </tr>\n",
       "  </tbody>\n",
       "</table>\n",
       "</div>"
      ],
      "text/plain": [
       "        date   label location  \\\n",
       "0 2012-01-24  coyote     VHC1   \n",
       "1 2012-01-24  coyote     VHC1   \n",
       "2 2012-01-24  coyote     VHC1   \n",
       "3 2012-01-24  coyote     VHC1   \n",
       "4 2012-01-26  rabbit     VHC1   \n",
       "\n",
       "                                                path  \n",
       "0  /autofocus/data/lpz_2012-2014/raw/WI12/DPT/D10...  \n",
       "1  /autofocus/data/lpz_2012-2014/raw/WI12/DPT/D10...  \n",
       "2  /autofocus/data/lpz_2012-2014/raw/WI12/DPT/D10...  \n",
       "3  /autofocus/data/lpz_2012-2014/raw/WI12/DPT/D10...  \n",
       "4  /autofocus/data/lpz_2012-2014/raw/WI12/DPT/D10...  "
      ]
     },
     "execution_count": 27,
     "metadata": {},
     "output_type": "execute_result"
    }
   ],
   "source": [
    "df.head()"
   ]
  },
  {
   "cell_type": "code",
   "execution_count": 28,
   "metadata": {},
   "outputs": [],
   "source": [
    "df = df.dropna(subset=[\"label\"])"
   ]
  },
  {
   "cell_type": "code",
   "execution_count": 29,
   "metadata": {},
   "outputs": [],
   "source": [
    "df_grouped = df.groupby(\"path\").agg(\n",
    "    {\"date\": \"first\", \"label\": set, \"location\": \"first\"}\n",
    ")"
   ]
  },
  {
   "cell_type": "code",
   "execution_count": 30,
   "metadata": {},
   "outputs": [
    {
     "data": {
      "text/plain": [
       "{'thing'}"
      ]
     },
     "execution_count": 30,
     "metadata": {},
     "output_type": "execute_result"
    }
   ],
   "source": [
    "{\"thing\"} - {\"empty\"}"
   ]
  },
  {
   "cell_type": "code",
   "execution_count": 31,
   "metadata": {},
   "outputs": [
    {
     "name": "stderr",
     "output_type": "stream",
     "text": [
      "100%|██████████| 145848/145848 [00:00<00:00, 524442.17it/s]\n"
     ]
    }
   ],
   "source": [
    "df_grouped.loc[:, \"label\"] = df_grouped.loc[:, \"label\"].progress_apply(\n",
    "    lambda x: x - {\"empty\"} if len(x) > 1 else x\n",
    ")"
   ]
  },
  {
   "cell_type": "code",
   "execution_count": 32,
   "metadata": {},
   "outputs": [
    {
     "name": "stderr",
     "output_type": "stream",
     "text": [
      "100%|██████████| 145848/145848 [00:00<00:00, 556058.29it/s]\n"
     ]
    },
    {
     "data": {
      "text/plain": [
       "1    144861\n",
       "2       981\n",
       "3         6\n",
       "Name: label, dtype: int64"
      ]
     },
     "execution_count": 32,
     "metadata": {},
     "output_type": "execute_result"
    }
   ],
   "source": [
    "df_grouped.loc[:, \"label\"].progress_apply(len).value_counts()"
   ]
  },
  {
   "cell_type": "code",
   "execution_count": 33,
   "metadata": {},
   "outputs": [
    {
     "name": "stderr",
     "output_type": "stream",
     "text": [
      "100%|██████████| 145848/145848 [00:00<00:00, 564614.35it/s]\n",
      "100%|██████████| 987/987 [00:00<00:00, 369722.07it/s]\n"
     ]
    },
    {
     "data": {
      "text/plain": [
       "(human, dog)                            742\n",
       "(bird, squirrel)                         71\n",
       "(opossum, raccoon)                       44\n",
       "(squirrel, rabbit)                       16\n",
       "(human, bird)                            15\n",
       "(human, squirrel)                        15\n",
       "(bird, rabbit)                           11\n",
       "(coyote, raccoon)                         4\n",
       "(squirrel, skunk)                         3\n",
       "(rabbit, raccoon)                         3\n",
       "(deer, raccoon)                           3\n",
       "(bird, rat)                               3\n",
       "(squirrel, opossum)                       3\n",
       "(squirrel, raccoon)                       3\n",
       "(bird, dog)                               3\n",
       "(rabbit, rat)                             3\n",
       "(opossum, skunk)                          2\n",
       "(rabbit, skunk)                           2\n",
       "(dog, squirrel)                           2\n",
       "(squirrel, deer)                          2\n",
       "(dog, bird)                               2\n",
       "(human, bird, dog)                        2\n",
       "(dog, cat)                                2\n",
       "(cat, coyote)                             2\n",
       "(human, rabbit)                           2\n",
       "(fox, skunk)                              1\n",
       "(bird, opossum)                           1\n",
       "(opossum, cat, raccoon)                   1\n",
       "(dog, rabbit)                             1\n",
       "(bird, beaver_muskrat_woodchuck)          1\n",
       "(human, livestock)                        1\n",
       "(mink, raccoon)                           1\n",
       "(human, coyote)                           1\n",
       "(squirrel, cat)                           1\n",
       "(squirrel, beaver_muskrat_woodchuck)      1\n",
       "(rabbit, deer)                            1\n",
       "(fox, coyote)                             1\n",
       "(human, deer)                             1\n",
       "(human, dog, raccoon)                     1\n",
       "(fox, cat)                                1\n",
       "(squirrel, fox)                           1\n",
       "(opossum, cat)                            1\n",
       "(bird, deer)                              1\n",
       "(opossum, coyote)                         1\n",
       "(skunk, raccoon)                          1\n",
       "(deer, coyote)                            1\n",
       "(fox, cat, raccoon)                       1\n",
       "(human, skunk)                            1\n",
       "(squirrel, raccoon, rabbit)               1\n",
       "(rat, opossum)                            1\n",
       "(human, cat)                              1\n",
       "(chipmunk, bird)                          1\n",
       "Name: label, dtype: int64"
      ]
     },
     "execution_count": 33,
     "metadata": {},
     "output_type": "execute_result"
    }
   ],
   "source": [
    "df_grouped.loc[\n",
    "    df_grouped.loc[:, \"label\"].progress_apply(len) > 1, \"label\"\n",
    "].progress_apply(tuple).value_counts()"
   ]
  },
  {
   "cell_type": "code",
   "execution_count": 34,
   "metadata": {},
   "outputs": [
    {
     "name": "stderr",
     "output_type": "stream",
     "text": [
      "100%|██████████| 145848/145848 [00:00<00:00, 295574.70it/s]\n"
     ]
    }
   ],
   "source": [
    "df_grouped.loc[:, \"label\"] = df_grouped.loc[:, \"label\"].progress_apply(list)"
   ]
  },
  {
   "cell_type": "code",
   "execution_count": 35,
   "metadata": {},
   "outputs": [],
   "source": [
    "df_grouped.index = df_grouped.index.astype(str)"
   ]
  },
  {
   "cell_type": "code",
   "execution_count": 37,
   "metadata": {},
   "outputs": [
    {
     "name": "stderr",
     "output_type": "stream",
     "text": [
      "100%|██████████| 145848/145848 [00:00<00:00, 555586.10it/s]\n"
     ]
    }
   ],
   "source": [
    "df_grouped.loc[:, \"label\"] = df_grouped.loc[:, \"label\"].progress_apply(\n",
    "    lambda x: [] if x[0] == \"empty\" else x\n",
    ")"
   ]
  },
  {
   "cell_type": "code",
   "execution_count": 38,
   "metadata": {},
   "outputs": [],
   "source": [
    "np.random.seed(2)"
   ]
  },
  {
   "cell_type": "code",
   "execution_count": 39,
   "metadata": {},
   "outputs": [],
   "source": [
    "val_locs = set(np.random.choice(df.loc[:, \"location\"].unique(), size=12))"
   ]
  },
  {
   "cell_type": "code",
   "execution_count": 40,
   "metadata": {},
   "outputs": [],
   "source": [
    "df_grouped.loc[:, \"is_val\"] = df_grouped.loc[:, \"location\"].apply(\n",
    "    lambda x: x in val_locs\n",
    ")"
   ]
  },
  {
   "cell_type": "code",
   "execution_count": 41,
   "metadata": {},
   "outputs": [],
   "source": [
    "outpath_template = \"s3://autofocus/lpz_data/labels_2012_2016_2017__{}.parquet\""
   ]
  },
  {
   "cell_type": "code",
   "execution_count": 49,
   "metadata": {},
   "outputs": [],
   "source": [
    "df_grouped.loc[df_grouped.loc[:, \"is_val\"]].rename(\n",
    "    columns={\"label\": \"tags\"}\n",
    ").to_parquet(outpath_template.format(\"val\"))"
   ]
  },
  {
   "cell_type": "code",
   "execution_count": 51,
   "metadata": {},
   "outputs": [
    {
     "data": {
      "text/plain": [
       "'s3://autofocus/lpz_data/labels_2012_2016_2017__val.parquet'"
      ]
     },
     "execution_count": 51,
     "metadata": {},
     "output_type": "execute_result"
    }
   ],
   "source": [
    "outpath_template.format(\"val\")"
   ]
  },
  {
   "cell_type": "code",
   "execution_count": 50,
   "metadata": {},
   "outputs": [],
   "source": [
    "df_grouped.loc[~df_grouped.loc[:, \"is_val\"]].rename(\n",
    "    columns={\"label\": \"tags\"}\n",
    ").to_parquet(outpath_template.format(\"train\"))"
   ]
  }
 ],
 "metadata": {
  "kernelspec": {
   "display_name": "Python 3",
   "language": "python",
   "name": "python3"
  },
  "language_info": {
   "codemirror_mode": {
    "name": "ipython",
    "version": 3
   },
   "file_extension": ".py",
   "mimetype": "text/x-python",
   "name": "python",
   "nbconvert_exporter": "python",
   "pygments_lexer": "ipython3",
   "version": "3.6.9"
  }
 },
 "nbformat": 4,
 "nbformat_minor": 4
}
